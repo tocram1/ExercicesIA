{
  "cells": [
    {
      "cell_type": "markdown",
      "metadata": {
        "id": "view-in-github",
        "colab_type": "text"
      },
      "source": [
        "<a href=\"https://colab.research.google.com/github/tocram1/ExercicesIA/blob/master/Perceptron_Wildrow_Hof.ipynb\" target=\"_parent\"><img src=\"https://colab.research.google.com/assets/colab-badge.svg\" alt=\"Open In Colab\"/></a>"
      ]
    },
    {
      "cell_type": "markdown",
      "metadata": {
        "id": "3p0act-jPyIz"
      },
      "source": [
        "## Chargement du jeu de données\n",
        "Jeux de caractères manuscrits proposé par scikitlearn"
      ]
    },
    {
      "cell_type": "code",
      "execution_count": null,
      "metadata": {
        "id": "ak_puLVnPyI7"
      },
      "outputs": [],
      "source": [
        "%matplotlib inline\n",
        "\n",
        "from sklearn.datasets import load_digits\n",
        "import matplotlib.pyplot as plt\n",
        "import numpy as np\n",
        "from collections import Counter\n",
        "import math\n",
        "\n",
        "# Découpage d'un jeu de données\n",
        "# par defaut 20% pour les tests et 80% pour l'apprentissage\n",
        "# Le jeu de données est mélangé\n",
        "def split_train_test( data, annotation, ratio=0.2, seed=42 ):\n",
        "    np.random.seed(seed)\n",
        "    liste = list(zip(data, annotation))\n",
        "    np.random.shuffle(liste)\n",
        "    data, annotation = zip(*liste)\n",
        "    size_test = int( len(data) * (1-ratio) )\n",
        "    return np.array(data[:size_test]), np.array(annotation[:size_test]),\\\n",
        "            np.array(data[size_test+1:]), np.array(annotation[size_test+1:])\n",
        "\n",
        "# Convertion nuance de gris => noir&blanc\n",
        "# Modification de chaque image du jeu de donnée\n",
        "# si la nuance de gris est supérieur au seuil alors le pixel est allumé\n",
        "def modif_input( dataset ):\n",
        "    for n in range(len(dataset)):\n",
        "        for i in range(len(dataset[n])):\n",
        "             dataset[n][i] = dataset[n][i]/16\n",
        "    return dataset\n",
        "\n",
        "# Convertion des données de classification\n",
        "# on ne garde qu'une classe, un élément est dans la classe ou il ne l'est pas\n",
        "    \n",
        "def modif_output( dataset, classe = 9 ):\n",
        "    for n in range(len(dataset)):\n",
        "        dataset[n] = 1 if dataset[n] == classe else -1 \n",
        "    return dataset\n",
        "\n",
        "# chargement du jeu de données et préparation des données\n",
        "digits = load_digits()\n",
        "\n",
        "trainX, trainY, testX, testY = split_train_test(digits.data, digits.target)\n",
        "\n",
        "trainX = modif_input(trainX)\n",
        "testX = modif_input(testX)\n",
        "\n",
        "trainY = modif_output(trainY)\n",
        "testY = modif_output(testY)"
      ]
    },
    {
      "cell_type": "markdown",
      "metadata": {
        "id": "WSbTk8lPPyI-"
      },
      "source": [
        "### Algo Apprentissage\n",
        "L'apprentissage de WildrowHof se fait en réduisant l'erreur par descente de gradient.  \n",
        "Le vecteur poids est modifié par passe succéssive, une passe correspond à calculer un pas de descente de gradient pour tous les carractères du jeu.  \n",
        "Par defaut on fait 20 passes et en sortie on a le tableau des poids et de l'évolution de l'erreur quadratique moyenne."
      ]
    },
    {
      "cell_type": "code",
      "execution_count": null,
      "metadata": {
        "id": "_C3nGZyOPyI_"
      },
      "outputs": [],
      "source": [
        "def initWeight( nbr ):\n",
        "    # initialisation de la matrice de poids W\n",
        "    W = np.mat( np.random.random(nbr + 1))\n",
        "    W = 2*W - 1 # On passe d'un tirage entre [0 1] à [-1, 1]\n",
        "    return W\n",
        "\n",
        "# Apprentissage, algo Wildrow/Hof\n",
        "# mu est la \"vitesse\" d'apprentissage\n",
        "# Par defaut, valeur 1 pour le poids W0 (biais)\n",
        "def decenteDeGradient( entrees, sorties, W, mu = 0.0001, biais = 1) :\n",
        "    erreur = []\n",
        "    # pour chaque vecteur du jeu de données\n",
        "    for n in range(len(entrees)):\n",
        "        X = np.mat(np.insert(entrees[n], 0, biais)) # Ajout du biais\n",
        "        S = sorties[n]\n",
        "        e = (S - X*np.transpose(W)) # forward propagation (calcul de l'erreur)\n",
        "        erreur.append(e[0,0])\n",
        "        W = W + 2 * mu * e * X    \n",
        "\n",
        "    return erreur, W\n",
        "\n",
        "def fitWildrowHof( entrees, sorties, ecart=False, max_iter=20 ):\n",
        "    loss = [] # tableau pour enregistrer l'évolution du MSE\n",
        "    w_vec = initWeight(len(entrees[0]))\n",
        "        \n",
        "    # Calcul du poid de chaque jeu par descente de gradient\n",
        "    iter = 0\n",
        "    erreur_vec, w1_vec = decenteDeGradient( entrees, sorties, w_vec )\n",
        "    # Calcul du MSE np.square(erreur_vec).mean() ou encore sum([e*e for e in erreur_vec])/len(erreur_vec)\n",
        "    loss.append( np.square(erreur_vec).mean() )\n",
        "\n",
        "    while iter < max_iter :\n",
        "        w_vec = w1_vec\n",
        "        erreur_vec, w1_vec = decenteDeGradient( entrees, sorties, w_vec )\n",
        "        if ecart:\n",
        "            affiche_erreur( erreur_vec ) #affiche les écarts\n",
        "        loss.append( np.square(erreur_vec).mean() ) # sauvegarde de l'erreur quadratique moyenne\n",
        "        iter = iter+1\n",
        "    \n",
        "    return loss, w_vec\n",
        "            \n",
        "    \n",
        "    "
      ]
    },
    {
      "cell_type": "markdown",
      "metadata": {
        "id": "-wAAj8lDPyJA"
      },
      "source": [
        "### affiche_erreur\n",
        "Prend en parametre e : un tableau de réel.   \n",
        "e contient pour chaque caractère l'écart entre la valeur désirée et la valeur calculée.  \n",
        "La fonction affiche tous les écarts, en abcisse on a le numéro ou l'id de l'image et en ordonné l'écart"
      ]
    },
    {
      "cell_type": "code",
      "execution_count": null,
      "metadata": {
        "id": "diGWqlN5PyJB"
      },
      "outputs": [],
      "source": [
        "def affiche_erreur(e):\n",
        "    plt.figure(figsize=(10,3), dpi=300)\n",
        "    plt.ylim(-5,5)\n",
        "    plt.grid()\n",
        "    ordonne = []\n",
        "    for x in range(len(e)):\n",
        "        ordonne.append(x)\n",
        "    plt.plot(ordonne, e,'b')\n",
        "    plt.show()"
      ]
    },
    {
      "cell_type": "code",
      "execution_count": null,
      "metadata": {
        "id": "HG38WcfKPyJB"
      },
      "outputs": [],
      "source": [
        "loss, weights = fitWildrowHof(trainX, trainY, max_iter=100)"
      ]
    },
    {
      "cell_type": "markdown",
      "metadata": {
        "id": "1eC6bRhsPyJC"
      },
      "source": [
        "### Courbe de progression de l'erreur\n",
        "L'erreur quadratique moyenne (MSE) est enregistrée pour chaque itération d'apprentissage. \n",
        "Le code ci-dessous affiche l'évolution de la MSE au fur et à mesure de l'apprentissage.\n"
      ]
    },
    {
      "cell_type": "code",
      "execution_count": null,
      "metadata": {
        "colab": {
          "base_uri": "https://localhost:8080/",
          "height": 265
        },
        "id": "FUb_0unZPyJD",
        "outputId": "b2355bcc-a92d-481e-a7e7-db7b1ed9dab1"
      },
      "outputs": [
        {
          "output_type": "display_data",
          "data": {
            "text/plain": [
              "<Figure size 432x288 with 1 Axes>"
            ],
            "image/png": "[encoded data removed]"
          },
          "metadata": {
            "needs_background": "light"
          }
        }
      ],
      "source": [
        "ordonne = []\n",
        "for x in range(len(loss)):\n",
        "    ordonne.append(x)\n",
        "plt.plot(ordonne, loss,'b')\n",
        "plt.show()"
      ]
    },
    {
      "cell_type": "markdown",
      "metadata": {
        "id": "YZBZ57JsPyJE"
      },
      "source": [
        "### Prédiction\n",
        "C'est un propagation vers l'avant dans le reseau."
      ]
    },
    {
      "cell_type": "code",
      "execution_count": null,
      "metadata": {
        "id": "gRXenD1pPyJF"
      },
      "outputs": [],
      "source": [
        "# Détermination de la classe en fonction des poids appris précédement\n",
        "# Fonction d'activation Heaviside\n",
        "def predictWildrowHof( entrees, W, biais = 1, seuil = 0):\n",
        "    Y = []\n",
        "    for X in entrees :\n",
        "        X = np.mat(np.insert(X, 0, biais)) # valeur 1 pour le poids W0 (biais)\n",
        "        y = X * np.transpose(W) # Calcule de la sortie\n",
        "        if y[0,0] >= seuil:\n",
        "            Y.append(1) # Heaviside seuil à 0 par défaut\n",
        "        else:\n",
        "            Y.append(-1)\n",
        "    return Y"
      ]
    },
    {
      "cell_type": "markdown",
      "metadata": {
        "id": "514pzSsbPyJG"
      },
      "source": [
        "### Performance\n",
        "Mise en place des indices de performance, matrice de confusion et score"
      ]
    },
    {
      "cell_type": "code",
      "execution_count": null,
      "metadata": {
        "id": "nfhVkYLePyJG"
      },
      "outputs": [],
      "source": [
        "# Calcul de la présicion et de la sensibilité d'un model à partir de sa matrice de confusion\n",
        "def matriceDeConfusion( test, predic ):\n",
        "    couple = list(zip(test,predic))\n",
        "    nbrCouple = Counter(couple)\n",
        "    TruePositif = nbrCouple[(1,1)]\n",
        "    FalsePositif = nbrCouple[(-1,1)]\n",
        "    TrueNegatif = nbrCouple[(-1,-1)]\n",
        "    FalseNegatif = nbrCouple[(1,-1)]\n",
        "    preci = (TruePositif/(TruePositif+FalsePositif)) if ((TruePositif+FalsePositif)>0) else 0\n",
        "    rappel = (TruePositif/(TruePositif+FalseNegatif)) if ((TruePositif+FalseNegatif)>0) else 0\n",
        "    return preci, rappel\n",
        "\n",
        "# Calcul du score à partir de la moyenne harmonique\n",
        "def score( preci, rappel ):\n",
        "    return (2/((1/preci)+(1/rappel))) if ((preci and rappel) != 0) else 0\n"
      ]
    },
    {
      "cell_type": "markdown",
      "metadata": {
        "id": "Ynju3c1ePyJH"
      },
      "source": [
        "### Evaluation\n",
        "Prédiction sur le jeu de test, calcul de la prédiction et de la sensibilité"
      ]
    },
    {
      "cell_type": "code",
      "execution_count": null,
      "metadata": {
        "colab": {
          "base_uri": "https://localhost:8080/"
        },
        "id": "GiO8WhcIPyJH",
        "outputId": "da0ec557-cd64-4095-fc51-2ff88ef8b5f6"
      },
      "outputs": [
        {
          "output_type": "stream",
          "name": "stdout",
          "text": [
            "[-1  1 -1 ... -1 -1 -1]\n",
            "[-1, 1, -1, -1, -1, -1, -1, -1, -1, -1, -1, -1, -1, -1, -1, -1, -1, -1, -1, -1, -1, -1, 1, -1, -1, -1, -1, -1, -1, -1, -1, 1, -1, -1, -1, -1, 1, -1, -1, -1, -1, 1, -1, -1, -1, -1, -1, -1, -1, -1, -1, -1, -1, -1, -1, -1, -1, -1, -1, -1, -1, -1, -1, -1, -1, -1, -1, -1, -1, -1, -1, -1, -1, -1, -1, -1, -1, -1, -1, 1, -1, -1, -1, -1, -1, -1, -1, -1, -1, 1, -1, -1, -1, -1, 1, -1, -1, -1, -1, -1, -1, -1, -1, -1, -1, -1, -1, 1, -1, -1, -1, -1, -1, -1, -1, 1, -1, -1, -1, -1, -1, -1, -1, -1, -1, -1, -1, -1, -1, -1, -1, -1, -1, -1, -1, -1, -1, -1, -1, -1, -1, -1, -1, -1, -1, 1, -1, 1, -1, -1, -1, -1, -1, -1, -1, -1, -1, 1, -1, -1, -1, -1, -1, -1, -1, -1, -1, -1, -1, -1, -1, -1, -1, -1, -1, -1, -1, -1, -1, -1, -1, -1, -1, -1, -1, -1, -1, -1, -1, 1, 1, -1, -1, -1, -1, -1, -1, -1, -1, -1, -1, 1, -1, -1, -1, -1, -1, -1, -1, -1, -1, -1, 1, -1, -1, -1, -1, -1, -1, -1, -1, -1, -1, -1, -1, -1, -1, -1, -1, -1, -1, -1, -1, 1, -1, -1, -1, -1, -1, -1, -1, -1, -1, -1, -1, -1, -1, -1, -1, -1, -1, -1, -1, -1, -1, -1, -1, -1, -1, -1, -1, -1, -1, -1, -1, -1, -1, -1, -1, -1, -1, -1, -1, -1, -1, -1, -1, -1, -1, -1, -1, -1, 1, -1, -1, -1, -1, 1, 1, -1, -1, -1, -1, -1, -1, -1, -1, -1, -1, -1, -1, -1, -1, -1, -1, -1, -1, -1, -1, -1, -1, 1, -1, -1, -1, -1, -1, -1, -1, -1, -1, -1, -1, -1, -1, -1, -1, -1, -1, -1, -1, -1, -1, -1, -1, -1, -1, 1, -1, -1, -1, -1, -1, -1, -1, -1, -1, 1, -1, -1, -1, -1, 1, -1, -1, -1, -1, -1, -1, -1, -1, -1, -1, -1, -1, -1, -1, -1, -1, -1, -1, -1, -1, -1, -1, -1, -1, -1, -1, -1, -1, -1, -1, -1, 1, -1, -1, -1, -1, -1, -1, -1, -1, -1, -1, -1, -1, -1, -1, -1, -1, -1, -1, -1, -1, -1, -1, -1, -1, -1, 1, -1, -1, -1, -1, -1, -1, -1, -1, 1, -1, -1, 1, -1, -1, -1, -1, 1, -1, -1, -1, -1, -1, -1, -1, 1, -1, 1, -1, -1, -1, -1, -1, -1, -1, -1, -1, -1, -1, -1, -1, -1, -1, -1, -1, -1, -1, -1, -1, -1, -1, -1, -1, -1, -1, -1, -1, -1, 1, -1, -1, -1, -1, -1, -1, -1, -1, 1, -1, -1, -1, -1, -1, -1, 1, -1, -1, -1, -1, -1, -1, -1, -1, -1, -1, -1, -1, -1, -1, -1, -1, -1, -1, -1, -1, -1, -1, -1, -1, -1, -1, 1, -1, -1, -1, -1, -1, -1, -1, -1, -1, -1, -1, -1, -1, 1, -1, -1, 1, -1, -1, -1, -1, 1, -1, -1, -1, -1, -1, -1, -1, -1, -1, -1, -1, -1, -1, -1, -1, 1, -1, -1, -1, -1, -1, -1, 1, -1, -1, 1, -1, 1, -1, -1, -1, -1, -1, 1, -1, -1, -1, -1, -1, -1, -1, -1, 1, -1, -1, -1, -1, -1, -1, -1, -1, -1, -1, -1, -1, -1, 1, -1, 1, -1, -1, -1, -1, 1, -1, -1, -1, 1, -1, -1, -1, -1, -1, -1, -1, -1, -1, -1, -1, -1, -1, -1, -1, -1, -1, -1, 1, -1, -1, -1, -1, -1, -1, -1, -1, -1, -1, -1, -1, -1, -1, -1, -1, -1, -1, -1, -1, -1, -1, -1, -1, -1, -1, -1, -1, -1, -1, -1, -1, -1, -1, -1, -1, -1, -1, -1, -1, -1, -1, -1, -1, -1, -1, -1, -1, -1, -1, -1, -1, -1, 1, 1, -1, -1, -1, -1, -1, -1, -1, -1, -1, -1, -1, -1, -1, -1, -1, -1, -1, -1, -1, -1, -1, -1, -1, -1, -1, -1, -1, -1, -1, -1, -1, -1, -1, -1, -1, -1, 1, -1, -1, -1, -1, -1, -1, -1, -1, -1, -1, -1, -1, -1, -1, -1, -1, -1, -1, -1, -1, -1, -1, -1, -1, -1, -1, 1, -1, -1, -1, -1, -1, -1, -1, 1, -1, -1, -1, -1, -1, -1, -1, -1, -1, -1, -1, -1, -1, -1, -1, -1, -1, -1, -1, 1, -1, -1, -1, -1, -1, -1, -1, -1, -1, -1, -1, -1, -1, -1, 1, -1, -1, -1, -1, 1, -1, -1, -1, -1, -1, -1, -1, -1, -1, -1, -1, 1, -1, -1, -1, -1, -1, -1, -1, -1, -1, -1, -1, -1, -1, -1, -1, -1, -1, -1, -1, -1, -1, -1, -1, -1, -1, -1, -1, -1, -1, -1, -1, 1, -1, -1, -1, -1, -1, -1, -1, -1, -1, -1, -1, -1, -1, -1, -1, -1, -1, -1, -1, -1, -1, -1, -1, -1, -1, -1, -1, -1, -1, -1, -1, -1, -1, -1, -1, -1, -1, -1, -1, -1, -1, -1, -1, -1, -1, -1, -1, -1, -1, -1, -1, -1, -1, -1, -1, -1, -1, -1, -1, -1, -1, -1, -1, -1, -1, -1, -1, -1, -1, -1, -1, -1, -1, -1, -1, -1, -1, -1, -1, -1, -1, -1, -1, 1, -1, -1, -1, -1, -1, -1, -1, -1, 1, -1, -1, -1, -1, -1, -1, -1, -1, -1, -1, -1, -1, -1, -1, -1, -1, -1, -1, -1, -1, -1, 1, -1, -1, -1, -1, -1, -1, -1, 1, -1, -1, -1, -1, -1, 1, -1, -1, -1, -1, -1, 1, -1, -1, -1, -1, -1, -1, -1, -1, -1, -1, -1, -1, -1, -1, -1, -1, -1, -1, -1, -1, -1, -1, -1, -1, -1, -1, -1, -1, -1, -1, -1, -1, -1, -1, -1, -1, -1, -1, -1, -1, 1, -1, -1, -1, -1, -1, -1, -1, -1, -1, -1, -1, -1, -1, 1, 1, -1, -1, -1, -1, -1, -1, -1, -1, -1, -1, -1, -1, -1, -1, -1, -1, -1, -1, -1, -1, -1, 1, 1, -1, -1, -1, -1, -1, -1, -1, -1, -1, -1, -1, -1, -1, -1, -1, -1, -1, -1, -1, -1, -1, -1, -1, -1, -1, -1, -1, -1, -1, -1, -1, -1, -1, -1, -1, -1, -1, -1, -1, -1, -1, -1, -1, -1, -1, -1, -1, -1, -1, -1, -1, -1, -1, -1, -1, -1, -1, 1, -1, -1, -1, -1, -1, -1, -1, -1, -1, -1, -1, -1, 1, -1, -1, -1, -1, -1, -1, -1, -1, -1, -1, -1, -1, -1, -1, -1, -1, -1, -1, -1, -1, -1, -1, -1, -1, -1, -1, -1, -1, -1, -1, -1, -1, 1, -1, -1, 1, -1, -1, -1, -1, -1, -1, -1, -1, -1, 1, -1, -1, -1, -1, -1, -1, -1, -1, -1, -1, -1, -1, 1, -1, -1, -1, -1, -1, -1, -1, -1, -1, -1, -1, -1, -1, 1, -1, -1, -1, -1, -1, -1, -1, -1, -1, -1, -1, -1, -1, -1, -1, -1, -1, -1, -1, -1, -1, 1, -1, -1, 1, -1, -1, -1, -1, -1, -1, 1, -1, -1, -1, -1, -1, 1, -1, -1, 1, -1, -1, -1, 1, -1, -1, -1, -1, -1, -1, -1, -1, -1, 1, -1, -1, -1, -1, -1, -1, -1, -1, -1, -1, -1, -1, -1, 1, -1, -1, -1, -1, -1, -1, -1, 1, -1, -1, -1, -1, -1, -1, -1, -1, -1, -1, -1, -1, 1, -1, -1, -1, -1, -1, -1, -1, -1, -1, -1, -1, -1, -1, -1, -1, -1, -1, -1, -1, -1, -1, -1, -1, -1, -1, -1, -1, -1, -1, -1, -1, -1, -1, -1, -1, -1, -1, -1, -1, -1, -1, -1, -1, -1, -1, -1, -1, -1, -1, 1, -1, -1, 1, -1, -1, 1, -1, -1, -1, -1, -1, -1, -1, -1, -1, -1, -1, -1, -1, -1, -1, -1, -1, -1, -1, -1, -1, -1, -1, -1, 1, -1, -1, -1, -1, -1, -1, -1, -1, 1, -1, 1, -1, -1, -1, -1, 1, -1, -1, -1, -1, -1, -1, -1, -1, -1, -1, -1, -1, -1, -1, -1, -1, -1, -1, -1, -1, 1, -1, -1, -1, -1, -1, -1, -1, -1, -1, -1, -1, -1, -1, -1, -1, -1, -1, -1, -1, -1, -1, 1, -1, -1, -1, -1, -1, -1, -1, -1, -1, -1, -1, -1, -1, -1, -1, -1, -1]\n",
            " Précision du model : 91.75%\n",
            " Sensibilité (rappel) : 60.96%\n",
            " Score : 73.25\n"
          ]
        }
      ],
      "source": [
        "prediction = predictWildrowHof( trainX, weights, seuil = 0 )\n",
        "print(trainY)\n",
        "print(prediction)\n",
        "# Evaluation de la performance du model\n",
        "preci, rappel = matriceDeConfusion( trainY, prediction )\n",
        "print(\" Précision du model : {:.2f}%\\n Sensibilité (rappel) : {:.2f}%\".format(preci*100,rappel*100))\n",
        "print(\" Score : {:.2f}\".format(score(preci, rappel)*100))"
      ]
    },
    {
      "cell_type": "code",
      "execution_count": null,
      "metadata": {
        "colab": {
          "base_uri": "https://localhost:8080/",
          "height": 279
        },
        "id": "gIZgaWH6PyJI",
        "outputId": "c568e377-7efa-4dea-f9f5-62245214ef2d"
      },
      "outputs": [
        {
          "output_type": "display_data",
          "data": {
            "text/plain": [
              "<Figure size 432x288 with 1 Axes>"
            ],
            "image/png": "[encoded data removed]"
          },
          "metadata": {
            "needs_background": "light"
          }
        }
      ],
      "source": [
        "# Détermination du seuil\n",
        "x = []\n",
        "precision_evolution = []\n",
        "rappel_evolution = []\n",
        "for seuil in [ x/10 for x in range(-25, 12)]:\n",
        "    x.append(seuil)\n",
        "    prediction = predictWildrowHof( trainX, weights, seuil=seuil)\n",
        "    preci, rappel = matriceDeConfusion( trainY, prediction )\n",
        "    precision_evolution.append( preci )\n",
        "    rappel_evolution.append( rappel )\n",
        "    \n",
        "plt.plot(x, precision_evolution,\"r-\", label=\"Précision\")\n",
        "plt.plot(x, rappel_evolution, \"b-\", label=\"Rappel\")\n",
        "plt.legend()\n",
        "plt.xlabel(\"seuil\")\n",
        "plt.show()"
      ]
    },
    {
      "cell_type": "markdown",
      "metadata": {
        "id": "9MTxhUU9PyJI"
      },
      "source": [
        "### Courbe ROC Receiver Operating Characteristic"
      ]
    },
    {
      "cell_type": "code",
      "execution_count": null,
      "metadata": {
        "colab": {
          "base_uri": "https://localhost:8080/",
          "height": 280
        },
        "id": "iXm_uS6ZPyJI",
        "outputId": "518cedb9-49ea-43df-962c-a41d25a27ac2"
      },
      "outputs": [
        {
          "output_type": "display_data",
          "data": {
            "text/plain": [
              "<Figure size 432x288 with 1 Axes>"
            ],
            "image/png": "[encoded data removed]"
          },
          "metadata": {
            "needs_background": "light"
          }
        }
      ],
      "source": [
        "plt.plot(1-np.array(precision_evolution), rappel_evolution,\"r-\")\n",
        "plt.xlabel(\"1 - précision\")\n",
        "plt.ylabel(\"Sensibilité ou Rappel\")\n",
        "plt.show()"
      ]
    },
    {
      "cell_type": "code",
      "execution_count": null,
      "metadata": {
        "id": "yTz_PJaiPyJJ"
      },
      "outputs": [],
      "source": [
        "weights.tofile(\"poids\", \",\",\"%s\")"
      ]
    },
    {
      "cell_type": "code",
      "execution_count": null,
      "metadata": {
        "colab": {
          "base_uri": "https://localhost:8080/"
        },
        "id": "0ykIf0YBPyJJ",
        "outputId": "22f4a7ae-f8e7-4b1e-a406-97480522ebdc"
      },
      "outputs": [
        {
          "output_type": "stream",
          "name": "stdout",
          "text": [
            "[[-1.00125817  0.64902809 -0.3416085  -0.47116767  0.5180587  -0.37440006\n",
            "   0.00261881  0.20796542 -0.93591189  0.33557916  0.43176415 -0.43510745\n",
            "   0.1497723  -0.03389264  0.06077509  0.01517287 -0.44772942  0.86965116\n",
            "   0.32370764  0.35920592  0.1937334   0.12866791  0.41362877  0.20762161\n",
            "   0.07123553  0.19495173 -0.01705617  0.01885655  0.19989739  0.04845244\n",
            "   0.16680512  0.18286491  0.18569424  0.30058837 -0.2936336   0.07698421\n",
            "  -0.02630945 -0.22056236  0.04227055  0.36721548 -0.13268933 -0.89685535\n",
            "  -0.20594005 -0.50777324  0.18298334 -0.33412008  0.21102249 -0.22454547\n",
            "  -0.84345043 -0.18269736 -0.20289639  0.21563177 -0.55794219  0.03169182\n",
            "  -0.48489269  0.46541061 -0.25063133  0.69249058  0.22453705  0.17125306\n",
            "   0.02962949  0.00826953  0.21458077 -0.17296353  0.04601198]]\n"
          ]
        }
      ],
      "source": [
        "print(weights)"
      ]
    }
  ],
  "metadata": {
    "kernelspec": {
      "display_name": "Python 3 (ipykernel)",
      "language": "python",
      "name": "python3"
    },
    "language_info": {
      "codemirror_mode": {
        "name": "ipython",
        "version": 3
      },
      "file_extension": ".py",
      "mimetype": "text/x-python",
      "name": "python",
      "nbconvert_exporter": "python",
      "pygments_lexer": "ipython3",
      "version": "3.9.6"
    },
    "colab": {
      "provenance": [],
      "include_colab_link": true
    }
  },
  "nbformat": 4,
  "nbformat_minor": 0
}